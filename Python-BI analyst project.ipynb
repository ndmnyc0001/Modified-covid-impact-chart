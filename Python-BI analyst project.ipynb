{
 "cells": [
  {
   "cell_type": "code",
   "execution_count": 23,
   "id": "9f8c441d-4690-4fdd-adf7-f7bc6463feed",
   "metadata": {},
   "outputs": [],
   "source": [
    "import pandas as pd"
   ]
  },
  {
   "cell_type": "code",
   "execution_count": 47,
   "id": "5c385053-11c8-4cec-84e2-151c8218dd9b",
   "metadata": {},
   "outputs": [],
   "source": [
    "from tabulate import tabulate "
   ]
  },
  {
   "cell_type": "code",
   "execution_count": 49,
   "id": "ccdf9660-58f0-410c-8417-6934eae3aa1c",
   "metadata": {},
   "outputs": [],
   "source": [
    "from scipy.stats import chi2_contingency"
   ]
  },
  {
   "cell_type": "code",
   "execution_count": 51,
   "id": "6ba57c8c-bf11-4935-9d4e-4ea6815d53de",
   "metadata": {},
   "outputs": [],
   "source": [
    "df = pd.read_csv('Modified chart.csv')"
   ]
  },
  {
   "cell_type": "code",
   "execution_count": 53,
   "id": "4d922e85-4ec9-4c7c-a64b-d921820fdc09",
   "metadata": {},
   "outputs": [],
   "source": [
    "df_copy = df.copy(deep=True) "
   ]
  },
  {
   "cell_type": "code",
   "execution_count": 55,
   "id": "7b0b2b31-8342-41d9-a8bf-d26a62d10b67",
   "metadata": {},
   "outputs": [],
   "source": [
    "df_copy['Increased_Work_Hours'] = pd.to_numeric(df_copy['Increased_Work_Hours'], errors='coerce') "
   ]
  },
  {
   "cell_type": "code",
   "execution_count": 57,
   "id": "bf8b250c-8a5b-49f2-9d96-36754eea4b1d",
   "metadata": {},
   "outputs": [],
   "source": [
    "columns_to_analyze = ['Increased_Work_Hours', 'Work_From_Home', 'Hours_Worked_Per_Day', 'Meetings_Per_Day', 'Productivity_Change',\n",
    "                     'Stress_Level', 'Health_Issue', 'Job_Security', 'Childcare_Responsibilities', 'Commuting_Changes',\n",
    "                     'Technology_Adaptation', 'Salary_Changes', 'Team_Collaboration_Challenges', 'Sector', 'Affected_by_Covid']"
   ]
  },
  {
   "cell_type": "code",
   "execution_count": 59,
   "id": "d5df3da3-8a26-42bd-adbe-4efee46c7611",
   "metadata": {},
   "outputs": [],
   "source": [
    "numerical_columns = ['Increased_Work_Hours', 'Work_From_Home', 'Hours_Worked_Per_Day', 'Meetings_Per_Day', 'Productivity_Change',\n",
    "                     'Stress_Level', 'Health_Issue', 'Job_Security', 'Childcare_Responsibilities', 'Commuting_Changes',\n",
    "                     'Technology_Adaptation', 'Salary_Changes', 'Team_Collaboration_Challenges', 'Sector', 'Affected_by_Covid']"
   ]
  },
  {
   "cell_type": "code",
   "execution_count": 61,
   "id": "087004c2-dc73-4089-b2f9-d98fa45fab53",
   "metadata": {
    "scrolled": true
   },
   "outputs": [
    {
     "name": "stdout",
     "output_type": "stream",
     "text": [
      "\n",
      "Frequency Table for Increased_Work_Hours:\n",
      "\n",
      "+------------------------+------------------------+-------------+\n",
      "| Increased_Work_Hours   | Increased_Work_Hours   | Frequency   |\n",
      "+========================+========================+=============+\n",
      "+------------------------+------------------------+-------------+\n",
      "\n",
      "Frequency Table for Work_From_Home:\n",
      "\n",
      "+------------------+------------------+-------------+\n",
      "| Work_From_Home   | Work_From_Home   |   Frequency |\n",
      "+==================+==================+=============+\n",
      "| Yes              | Yes              |         813 |\n",
      "+------------------+------------------+-------------+\n",
      "| No               | No               |         187 |\n",
      "+------------------+------------------+-------------+\n",
      "\n",
      "Frequency Table for Hours_Worked_Per_Day:\n",
      "\n",
      "+------------------------+------------------------+-------------+\n",
      "|   Hours_Worked_Per_Day |   Hours_Worked_Per_Day |   Frequency |\n",
      "+========================+========================+=============+\n",
      "|                      8 |                      8 |         197 |\n",
      "+------------------------+------------------------+-------------+\n",
      "|                      7 |                      7 |         167 |\n",
      "+------------------------+------------------------+-------------+\n",
      "|                      9 |                      9 |         152 |\n",
      "+------------------------+------------------------+-------------+\n",
      "|                      6 |                      6 |         140 |\n",
      "+------------------------+------------------------+-------------+\n",
      "|                     10 |                     10 |         129 |\n",
      "+------------------------+------------------------+-------------+\n",
      "|                     11 |                     11 |          76 |\n",
      "+------------------------+------------------------+-------------+\n",
      "|                      5 |                      5 |          69 |\n",
      "+------------------------+------------------------+-------------+\n",
      "|                     12 |                     12 |          34 |\n",
      "+------------------------+------------------------+-------------+\n",
      "|                      4 |                      4 |          16 |\n",
      "+------------------------+------------------------+-------------+\n",
      "|                     13 |                     13 |           8 |\n",
      "+------------------------+------------------------+-------------+\n",
      "|                      3 |                      3 |           7 |\n",
      "+------------------------+------------------------+-------------+\n",
      "|                      2 |                      2 |           3 |\n",
      "+------------------------+------------------------+-------------+\n",
      "|                     17 |                     17 |           1 |\n",
      "+------------------------+------------------------+-------------+\n",
      "|                     14 |                     14 |           1 |\n",
      "+------------------------+------------------------+-------------+\n",
      "\n",
      "Frequency Table for Meetings_Per_Day:\n",
      "\n",
      "+--------------------+--------------------+-------------+\n",
      "|   Meetings_Per_Day |   Meetings_Per_Day |   Frequency |\n",
      "+====================+====================+=============+\n",
      "|                  4 |                  4 |         257 |\n",
      "+--------------------+--------------------+-------------+\n",
      "|                  5 |                  5 |         206 |\n",
      "+--------------------+--------------------+-------------+\n",
      "|                  3 |                  3 |         197 |\n",
      "+--------------------+--------------------+-------------+\n",
      "|                  2 |                  2 |         122 |\n",
      "+--------------------+--------------------+-------------+\n",
      "|                  6 |                  6 |         120 |\n",
      "+--------------------+--------------------+-------------+\n",
      "|                  7 |                  7 |          44 |\n",
      "+--------------------+--------------------+-------------+\n",
      "|                  1 |                  1 |          32 |\n",
      "+--------------------+--------------------+-------------+\n",
      "|                  8 |                  8 |          13 |\n",
      "+--------------------+--------------------+-------------+\n",
      "|                  0 |                  0 |           7 |\n",
      "+--------------------+--------------------+-------------+\n",
      "|                 -1 |                 -1 |           2 |\n",
      "+--------------------+--------------------+-------------+\n",
      "\n",
      "Frequency Table for Productivity_Change:\n",
      "\n",
      "+-----------------------+-----------------------+-------------+\n",
      "| Productivity_Change   | Productivity_Change   |   Frequency |\n",
      "+=======================+=======================+=============+\n",
      "| No Productivity       | No Productivity       |         501 |\n",
      "+-----------------------+-----------------------+-------------+\n",
      "| Improved Productivity | Improved Productivity |         499 |\n",
      "+-----------------------+-----------------------+-------------+\n",
      "\n",
      "Frequency Table for Stress_Level:\n",
      "\n",
      "+----------------+----------------+-------------+\n",
      "| Stress_Level   | Stress_Level   |   Frequency |\n",
      "+================+================+=============+\n",
      "| Medium         | Medium         |         475 |\n",
      "+----------------+----------------+-------------+\n",
      "| High           | High           |         321 |\n",
      "+----------------+----------------+-------------+\n",
      "| Low            | Low            |         204 |\n",
      "+----------------+----------------+-------------+\n",
      "\n",
      "Frequency Table for Health_Issue:\n",
      "\n",
      "+----------------+----------------+-------------+\n",
      "| Health_Issue   | Health_Issue   |   Frequency |\n",
      "+================+================+=============+\n",
      "| No             | No             |         690 |\n",
      "+----------------+----------------+-------------+\n",
      "| Yes            | Yes            |         310 |\n",
      "+----------------+----------------+-------------+\n",
      "\n",
      "Frequency Table for Job_Security:\n",
      "\n",
      "+----------------+----------------+-------------+\n",
      "| Job_Security   | Job_Security   |   Frequency |\n",
      "+================+================+=============+\n",
      "| Not Secure     | Not Secure     |         586 |\n",
      "+----------------+----------------+-------------+\n",
      "| Secure         | Secure         |         414 |\n",
      "+----------------+----------------+-------------+\n",
      "\n",
      "Frequency Table for Childcare_Responsibilities:\n",
      "\n",
      "+------------------------------+------------------------------+-------------+\n",
      "| Childcare_Responsibilities   | Childcare_Responsibilities   |   Frequency |\n",
      "+==============================+==============================+=============+\n",
      "| Not Resposible               | Not Resposible               |         584 |\n",
      "+------------------------------+------------------------------+-------------+\n",
      "| Responsible                  | Responsible                  |         416 |\n",
      "+------------------------------+------------------------------+-------------+\n",
      "\n",
      "Frequency Table for Commuting_Changes:\n",
      "\n",
      "+---------------------+---------------------+-------------+\n",
      "| Commuting_Changes   | Commuting_Changes   |   Frequency |\n",
      "+=====================+=====================+=============+\n",
      "| Changed             | Changed             |         513 |\n",
      "+---------------------+---------------------+-------------+\n",
      "| No Changes          | No Changes          |         487 |\n",
      "+---------------------+---------------------+-------------+\n",
      "\n",
      "Frequency Table for Technology_Adaptation:\n",
      "\n",
      "+-------------------------+-------------------------+-------------+\n",
      "| Technology_Adaptation   | Technology_Adaptation   |   Frequency |\n",
      "+=========================+=========================+=============+\n",
      "| Yes                     | Yes                     |         607 |\n",
      "+-------------------------+-------------------------+-------------+\n",
      "| No                      | No                      |         393 |\n",
      "+-------------------------+-------------------------+-------------+\n",
      "\n",
      "Frequency Table for Salary_Changes:\n",
      "\n",
      "+------------------+------------------+-------------+\n",
      "| Salary_Changes   | Salary_Changes   |   Frequency |\n",
      "+==================+==================+=============+\n",
      "| No Changes       | No Changes       |         795 |\n",
      "+------------------+------------------+-------------+\n",
      "| Changed          | Changed          |         205 |\n",
      "+------------------+------------------+-------------+\n",
      "\n",
      "Frequency Table for Team_Collaboration_Challenges:\n",
      "\n",
      "+---------------------------------+---------------------------------+-------------+\n",
      "| Team_Collaboration_Challenges   | Team_Collaboration_Challenges   |   Frequency |\n",
      "+=================================+=================================+=============+\n",
      "| Yes                             | Yes                             |         703 |\n",
      "+---------------------------------+---------------------------------+-------------+\n",
      "| No                              | No                              |         297 |\n",
      "+---------------------------------+---------------------------------+-------------+\n",
      "\n",
      "Frequency Table for Sector:\n",
      "\n",
      "+------------+------------+-------------+\n",
      "| Sector     | Sector     |   Frequency |\n",
      "+============+============+=============+\n",
      "| IT         | IT         |         261 |\n",
      "+------------+------------+-------------+\n",
      "| Education  | Education  |         261 |\n",
      "+------------+------------+-------------+\n",
      "| Healthcare | Healthcare |         248 |\n",
      "+------------+------------+-------------+\n",
      "| Retail     | Retail     |         230 |\n",
      "+------------+------------+-------------+\n",
      "\n",
      "Frequency Table for Affected_by_Covid:\n",
      "\n",
      "+---------------------+---------------------+-------------+\n",
      "| Affected_by_Covid   | Affected_by_Covid   |   Frequency |\n",
      "+=====================+=====================+=============+\n",
      "| Affected            | Affected            |        1000 |\n",
      "+---------------------+---------------------+-------------+\n",
      "\n",
      "Summary Statistics for Increased_Work_Hours:\n",
      "\n",
      "count    0.0\n",
      "mean     NaN\n",
      "std      NaN\n",
      "min      NaN\n",
      "25%      NaN\n",
      "50%      NaN\n",
      "75%      NaN\n",
      "max      NaN\n",
      "Name: Increased_Work_Hours, dtype: float64\n",
      "\n",
      "Summary Statistics for Work_From_Home:\n",
      "\n",
      "count     1000\n",
      "unique       2\n",
      "top        Yes\n",
      "freq       813\n",
      "Name: Work_From_Home, dtype: object\n",
      "\n",
      "Summary Statistics for Hours_Worked_Per_Day:\n",
      "\n",
      "count    1000.000000\n",
      "mean        8.058000\n",
      "std         2.025028\n",
      "min         2.000000\n",
      "25%         7.000000\n",
      "50%         8.000000\n",
      "75%         9.000000\n",
      "max        17.000000\n",
      "Name: Hours_Worked_Per_Day, dtype: float64\n",
      "\n",
      "Summary Statistics for Meetings_Per_Day:\n",
      "\n",
      "count    1000.000000\n",
      "mean        4.055000\n",
      "std         1.557048\n",
      "min        -1.000000\n",
      "25%         3.000000\n",
      "50%         4.000000\n",
      "75%         5.000000\n",
      "max         8.000000\n",
      "Name: Meetings_Per_Day, dtype: float64\n",
      "\n",
      "Summary Statistics for Productivity_Change:\n",
      "\n",
      "count                1000\n",
      "unique                  2\n",
      "top       No Productivity\n",
      "freq                  501\n",
      "Name: Productivity_Change, dtype: object\n",
      "\n",
      "Summary Statistics for Stress_Level:\n",
      "\n",
      "count       1000\n",
      "unique         3\n",
      "top       Medium\n",
      "freq         475\n",
      "Name: Stress_Level, dtype: object\n",
      "\n",
      "Summary Statistics for Health_Issue:\n",
      "\n",
      "count     1000\n",
      "unique       2\n",
      "top         No\n",
      "freq       690\n",
      "Name: Health_Issue, dtype: object\n",
      "\n",
      "Summary Statistics for Job_Security:\n",
      "\n",
      "count           1000\n",
      "unique             2\n",
      "top       Not Secure\n",
      "freq             586\n",
      "Name: Job_Security, dtype: object\n",
      "\n",
      "Summary Statistics for Childcare_Responsibilities:\n",
      "\n",
      "count               1000\n",
      "unique                 2\n",
      "top       Not Resposible\n",
      "freq                 584\n",
      "Name: Childcare_Responsibilities, dtype: object\n",
      "\n",
      "Summary Statistics for Commuting_Changes:\n",
      "\n",
      "count        1000\n",
      "unique          2\n",
      "top       Changed\n",
      "freq          513\n",
      "Name: Commuting_Changes, dtype: object\n",
      "\n",
      "Summary Statistics for Technology_Adaptation:\n",
      "\n",
      "count     1000\n",
      "unique       2\n",
      "top        Yes\n",
      "freq       607\n",
      "Name: Technology_Adaptation, dtype: object\n",
      "\n",
      "Summary Statistics for Salary_Changes:\n",
      "\n",
      "count           1000\n",
      "unique             2\n",
      "top       No Changes\n",
      "freq             795\n",
      "Name: Salary_Changes, dtype: object\n",
      "\n",
      "Summary Statistics for Team_Collaboration_Challenges:\n",
      "\n",
      "count     1000\n",
      "unique       2\n",
      "top        Yes\n",
      "freq       703\n",
      "Name: Team_Collaboration_Challenges, dtype: object\n",
      "\n",
      "Summary Statistics for Sector:\n",
      "\n",
      "count     1000\n",
      "unique       4\n",
      "top         IT\n",
      "freq       261\n",
      "Name: Sector, dtype: object\n",
      "\n",
      "Summary Statistics for Affected_by_Covid:\n",
      "\n",
      "count         1000\n",
      "unique           1\n",
      "top       Affected\n",
      "freq          1000\n",
      "Name: Affected_by_Covid, dtype: object\n"
     ]
    }
   ],
   "source": [
    "for column in columns_to_analyze:\n",
    "    column_counts = df_copy[column].value_counts()\n",
    "    \n",
    "    if column == 'Increased_Work_Hours':\n",
    "        column_counts.index = column_counts.index.map({0: 'Decreased', 1: 'Increased'}) \n",
    "    \n",
    "    freq_table = pd.DataFrame({column: column_counts.index, 'Frequency': column_counts})\n",
    "    print(f\"\\nFrequency Table for {column}:\\n\")\n",
    "    print(tabulate(freq_table, headers='keys', tablefmt='grid')) \n",
    "\n",
    "for column in numerical_columns:\n",
    "    print(f\"\\nSummary Statistics for {column}:\\n\")\n",
    "    print(df_copy[column].describe())"
   ]
  },
  {
   "cell_type": "code",
   "execution_count": 63,
   "id": "8ccb16b4-a79b-4b5a-be9e-c409e2ff28a3",
   "metadata": {},
   "outputs": [
    {
     "name": "stdout",
     "output_type": "stream",
     "text": [
      "| Sector     | Work_From_Home (No)   | Work_From_Home (Yes)   | Total   |\n",
      "|:-----------|:----------------------|:-----------------------|:--------|\n",
      "| Education  | 46                    | 215                    | 261     |\n",
      "| Healthcare | 43                    | 205                    | 248     |\n",
      "| IT         | 56                    | 205                    | 261     |\n",
      "| Retail     | 42                    | 188                    | 230     |\n",
      "| Total      | 187                   | 813                    | 1000    |\n",
      "\n",
      "\n",
      "\n",
      "| Sector     | Stress_Level (Low)   | Stress_Level (Medium)   | Stress_Level (High)   | Total   |\n",
      "|:-----------|:---------------------|:------------------------|:----------------------|:--------|\n",
      "| Education  | 83                   | 56                      | 122                   | 261     |\n",
      "| Healthcare | 77                   | 47                      | 124                   | 248     |\n",
      "| IT         | 79                   | 61                      | 121                   | 261     |\n",
      "| Retail     | 82                   | 40                      | 108                   | 230     |\n",
      "| Total      | 321                  | 204                     | 475                   | 1000    |\n",
      "\n",
      "\n",
      "\n",
      "| Sector     | Team_Collaboration_Challenges (No)   | Team_Collaboration_Challenges (Yes)   | Total   |\n",
      "|:-----------|:-------------------------------------|:--------------------------------------|:--------|\n",
      "| Education  | 68                                   | 193                                   | 261     |\n",
      "| Healthcare | 83                                   | 165                                   | 248     |\n",
      "| IT         | 72                                   | 189                                   | 261     |\n",
      "| Retail     | 74                                   | 156                                   | 230     |\n",
      "| Total      | 297                                  | 703                                   | 1000    |\n",
      "\n",
      "\n",
      "\n",
      "| Work_From_Home   | Stress_Level (Low)   | Stress_Level (Medium)   | Stress_Level (High)   | Total   |\n",
      "|:-----------------|:---------------------|:------------------------|:----------------------|:--------|\n",
      "| No               | 63                   | 36                      | 88                    | 187     |\n",
      "| Yes              | 258                  | 168                     | 387                   | 813     |\n",
      "| Total            | 321                  | 204                     | 475                   | 1000    |\n",
      "\n",
      "\n",
      "\n",
      "|                                             | Increased_Work_Hours (Increased)   | Increased_Work_Hours (Decreased)   | Total   |\n",
      "|:--------------------------------------------|:-----------------------------------|:-----------------------------------|:--------|\n",
      "| Productivity_Change (Improved Productivity) | 335                                | 164                                | 499     |\n",
      "| Productivity_Change (No Productivity)       | 325                                | 176                                | 501     |\n",
      "| Total                                       | 660                                | 340                                | 1000    |\n"
     ]
    }
   ],
   "source": [
    "cross_tab = pd.crosstab(index=df_copy['Sector'], columns=df_copy['Work_From_Home'])\n",
    "cross_tab['Total'] = cross_tab.sum(axis = 1)\n",
    "cross_tab.loc['Total'] = cross_tab.sum(axis = 0)\n",
    "cross_tab.columns = ['Work_From_Home (No)', 'Work_From_Home (Yes)', 'Total']\n",
    "print(cross_tab.to_markdown(numalign=\"left\", stralign=\"left\")) \n",
    "\n",
    "print(\"\\n\\n\")\n",
    "\n",
    "cross_tab = pd.crosstab(index=df_copy['Sector'], columns=df_copy['Stress_Level'])\n",
    "cross_tab['Total'] = cross_tab.sum(axis = 1)\n",
    "cross_tab.loc['Total'] = cross_tab.sum(axis = 0)\n",
    "cross_tab.columns = ['Stress_Level (Low)', 'Stress_Level (Medium)', 'Stress_Level (High)', 'Total']\n",
    "print(cross_tab.to_markdown(numalign=\"left\", stralign=\"left\"))\n",
    "\n",
    "print(\"\\n\\n\")\n",
    "\n",
    "cross_tab = pd.crosstab(index=df_copy['Sector'], columns=df_copy['Team_Collaboration_Challenges'])\n",
    "cross_tab['Total'] = cross_tab.sum(axis = 1)\n",
    "cross_tab.loc['Total'] = cross_tab.sum(axis = 0)\n",
    "cross_tab.columns = ['Team_Collaboration_Challenges (No)', 'Team_Collaboration_Challenges (Yes)', 'Total']\n",
    "print(cross_tab.to_markdown(numalign=\"left\", stralign=\"left\"))\n",
    "\n",
    "print(\"\\n\\n\")\n",
    "\n",
    "cross_tab = pd.crosstab(index=df_copy['Work_From_Home'], columns=df_copy['Stress_Level'])\n",
    "cross_tab['Total'] = cross_tab.sum(axis = 1)\n",
    "cross_tab.loc['Total'] = cross_tab.sum(axis = 0)\n",
    "cross_tab.columns = ['Stress_Level (Low)', 'Stress_Level (Medium)', 'Stress_Level (High)', 'Total']\n",
    "print(cross_tab.to_markdown(numalign=\"left\", stralign=\"left\"))\n",
    "\n",
    "print(\"\\n\\n\")\n",
    "\n",
    "df['Increased_Work_Hours (Increased)'] = (df['Increased_Work_Hours'] == 'Increased').astype(int)\n",
    "df['Increased_Work_Hours (Decreased)'] = (df['Increased_Work_Hours'] == 'Decreased').astype(int)\n",
    "cross_tab_data = {\n",
    "    'Increased_Work_Hours (Increased)': [\n",
    "        (df['Increased_Work_Hours (Increased)'] & (df['Productivity_Change'] == 'Improved Productivity')).sum(),\n",
    "        (df['Increased_Work_Hours (Increased)'] & (df['Productivity_Change'] == 'No Productivity')).sum()\n",
    "    ],\n",
    "    'Increased_Work_Hours (Decreased)': [\n",
    "        (df['Increased_Work_Hours (Decreased)'] & (df['Productivity_Change'] == 'Improved Productivity')).sum(),\n",
    "        (df['Increased_Work_Hours (Decreased)'] & (df['Productivity_Change'] == 'No Productivity')).sum()\n",
    "    ]\n",
    "}\n",
    "cross_tab = pd.DataFrame(cross_tab_data, \n",
    "                        index=['Productivity_Change (Improved Productivity)', 'Productivity_Change (No Productivity)'])\n",
    "cross_tab['Total'] = cross_tab.sum(axis=1)\n",
    "cross_tab.loc['Total'] = cross_tab.sum(axis=0)\n",
    "print(cross_tab.to_markdown(numalign=\"left\", stralign=\"left\")) "
   ]
  },
  {
   "cell_type": "code",
   "execution_count": 65,
   "id": "0f8a0651-9bd4-445e-93ba-82e41f8c0707",
   "metadata": {},
   "outputs": [],
   "source": [
    "cross_tab = pd.crosstab(index=df['Sector'], columns=df['Work_From_Home'])"
   ]
  },
  {
   "cell_type": "code",
   "execution_count": 67,
   "id": "5f399548-53b8-4da3-9407-a7198175e885",
   "metadata": {},
   "outputs": [],
   "source": [
    "chi2_stat, p_value, dof, expected = chi2_contingency(cross_tab)"
   ]
  },
  {
   "cell_type": "code",
   "execution_count": 69,
   "id": "c8f0cb9e-95f3-4b32-b43f-b7032677520d",
   "metadata": {},
   "outputs": [
    {
     "name": "stdout",
     "output_type": "stream",
     "text": [
      "Chi-square statistic: 1.8339400692378605\n",
      "p-value: 0.607577194060132\n",
      "Degrees of Freedom: 3\n",
      "Expected Frequencies:\n",
      " [[ 48.807 212.193]\n",
      " [ 46.376 201.624]\n",
      " [ 48.807 212.193]\n",
      " [ 43.01  186.99 ]]\n"
     ]
    }
   ],
   "source": [
    "print(\"Chi-square statistic:\", chi2_stat)\n",
    "print(\"p-value:\", p_value)\n",
    "print(\"Degrees of Freedom:\", dof)\n",
    "print(\"Expected Frequencies:\\n\", expected)"
   ]
  },
  {
   "cell_type": "code",
   "execution_count": 115,
   "id": "cd3c5f2b-c628-43e2-921a-1d86637f905e",
   "metadata": {},
   "outputs": [
    {
     "name": "stdout",
     "output_type": "stream",
     "text": [
      "Fail to reject the null hypothesis. There is no statistically significant association between Sector and Work_From_Home.\n"
     ]
    }
   ],
   "source": [
    "alpha = 0.05\n",
    "if p_value < alpha:\n",
    "    print(\"Reject the null hypothesis. There is a statistically significant association between Sector and Work_From_Home.\")\n",
    "else:\n",
    "    print(\"Fail to reject the null hypothesis. There is no statistically significant association between Sector and Work_From_Home.\")"
   ]
  },
  {
   "cell_type": "code",
   "execution_count": 77,
   "id": "bd508e56-f98b-4d36-9342-86ffa07b4210",
   "metadata": {},
   "outputs": [],
   "source": [
    "cross_tab = pd.crosstab(index=df['Sector'], columns=df['Stress_Level'])"
   ]
  },
  {
   "cell_type": "code",
   "execution_count": 79,
   "id": "d2ef82fa-2430-47ab-af4d-763cef0af8b3",
   "metadata": {},
   "outputs": [],
   "source": [
    "chi2_stat, p_value, dof, expected = chi2_contingency(cross_tab)"
   ]
  },
  {
   "cell_type": "code",
   "execution_count": 81,
   "id": "83a8cb75-0e52-45bd-95cd-b3c34f64c2ab",
   "metadata": {},
   "outputs": [
    {
     "name": "stdout",
     "output_type": "stream",
     "text": [
      "Chi-square statistic: 4.261200600848883\n",
      "p-value: 0.6413753651033982\n",
      "Degrees of Freedom: 6\n",
      "Expected Frequencies:\n",
      " [[ 83.781  53.244 123.975]\n",
      " [ 79.608  50.592 117.8  ]\n",
      " [ 83.781  53.244 123.975]\n",
      " [ 73.83   46.92  109.25 ]]\n"
     ]
    }
   ],
   "source": [
    "print(\"Chi-square statistic:\", chi2_stat)\n",
    "print(\"p-value:\", p_value)\n",
    "print(\"Degrees of Freedom:\", dof)\n",
    "print(\"Expected Frequencies:\\n\", expected)"
   ]
  },
  {
   "cell_type": "code",
   "execution_count": 119,
   "id": "3530805c-d6f8-40b3-8cf6-190a5133efc4",
   "metadata": {},
   "outputs": [
    {
     "name": "stdout",
     "output_type": "stream",
     "text": [
      "Fail to reject the null hypothesis. There is no statistically significant association between Sector and Stress_Level.\n"
     ]
    }
   ],
   "source": [
    "alpha = 0.05\n",
    "if p_value < alpha:\n",
    "    print(\"Reject the null hypothesis. There is a statistically significant association between Sector and Stress_Level.\")\n",
    "else:\n",
    "    print(\"Fail to reject the null hypothesis. There is no statistically significant association between Sector and Stress_Level.\")"
   ]
  },
  {
   "cell_type": "code",
   "execution_count": 87,
   "id": "e66575d8-fa3e-47bd-894f-63c31f1ccf8e",
   "metadata": {},
   "outputs": [],
   "source": [
    "cross_tab = pd.crosstab(index=df['Sector'], columns=df['Team_Collaboration_Challenges'])"
   ]
  },
  {
   "cell_type": "code",
   "execution_count": 89,
   "id": "d0fb61b0-b9db-4a0f-b6ba-ae213f277fa5",
   "metadata": {},
   "outputs": [],
   "source": [
    "chi2_stat, p_value, dof, expected = chi2_contingency(cross_tab)"
   ]
  },
  {
   "cell_type": "code",
   "execution_count": 91,
   "id": "bd8debd1-dee5-4adb-a6a9-155a81be5b18",
   "metadata": {},
   "outputs": [
    {
     "name": "stdout",
     "output_type": "stream",
     "text": [
      "Chi-square statistic: 4.580971018521904\n",
      "p-value: 0.2051805743511553\n",
      "Degrees of Freedom: 3\n",
      "Expected Frequencies:\n",
      " [[ 77.517 183.483]\n",
      " [ 73.656 174.344]\n",
      " [ 77.517 183.483]\n",
      " [ 68.31  161.69 ]]\n"
     ]
    }
   ],
   "source": [
    "print(\"Chi-square statistic:\", chi2_stat)\n",
    "print(\"p-value:\", p_value)\n",
    "print(\"Degrees of Freedom:\", dof)\n",
    "print(\"Expected Frequencies:\\n\", expected)"
   ]
  },
  {
   "cell_type": "code",
   "execution_count": 123,
   "id": "1f458066-6dbd-411a-8252-07e24c7a1df2",
   "metadata": {},
   "outputs": [
    {
     "name": "stdout",
     "output_type": "stream",
     "text": [
      "Fail to reject the null hypothesis. There is no statistically significant association between Sector and Team_Collaboration_Challenges.\n"
     ]
    }
   ],
   "source": [
    "alpha = 0.05\n",
    "if p_value < alpha:\n",
    "    print(\"Reject the null hypothesis. There is a statistically significant association between Sector and Team_Collaboration_Challenges.\")\n",
    "else:\n",
    "    print(\"Fail to reject the null hypothesis. There is no statistically significant association between Sector and Team_Collaboration_Challenges.\")"
   ]
  },
  {
   "cell_type": "code",
   "execution_count": 95,
   "id": "aa4a4765-e060-4010-8d6b-8c3d049fd90c",
   "metadata": {},
   "outputs": [],
   "source": [
    "cross_tab = pd.crosstab(index=df['Work_From_Home'], columns=df['Stress_Level'])"
   ]
  },
  {
   "cell_type": "code",
   "execution_count": 133,
   "id": "5c437edb-58e6-4a78-a2fc-d1e50264119c",
   "metadata": {},
   "outputs": [],
   "source": [
    "chi2_stat, p_value, dof, expected = chi2_contingency(cross_tab)"
   ]
  },
  {
   "cell_type": "code",
   "execution_count": 135,
   "id": "89467e7b-748f-40de-86cf-2bcc8f5a8903",
   "metadata": {},
   "outputs": [
    {
     "name": "stdout",
     "output_type": "stream",
     "text": [
      "Chi-square statistic: 0.4746115241145468\n",
      "p-value: 0.4908732666304465\n",
      "Degrees of Freedom: 1\n",
      "Expected Frequencies:\n",
      " [[169.66 170.34]\n",
      " [329.34 330.66]]\n"
     ]
    }
   ],
   "source": [
    "print(\"Chi-square statistic:\", chi2_stat)\n",
    "print(\"p-value:\", p_value)\n",
    "print(\"Degrees of Freedom:\", dof)\n",
    "print(\"Expected Frequencies:\\n\", expected)"
   ]
  },
  {
   "cell_type": "code",
   "execution_count": 127,
   "id": "b2a7f736-f5f8-4df4-ba59-4f1b8eb6c0af",
   "metadata": {},
   "outputs": [
    {
     "name": "stdout",
     "output_type": "stream",
     "text": [
      "Fail to reject the null hypothesis. There is no statistically significant association between Work_From_Home and Stress_Level.\n"
     ]
    }
   ],
   "source": [
    "alpha = 0.10\n",
    "if p_value < alpha:\n",
    "    print(\"Reject the null hypothesis. There is a statistically significant association between Work_From_Home and Stress_Level.\")\n",
    "else:\n",
    "    print(\"Fail to reject the null hypothesis. There is no statistically significant association between Work_From_Home and Stress_Level.\")"
   ]
  },
  {
   "cell_type": "code",
   "execution_count": 105,
   "id": "2e1ef84b-02ef-4438-9ad0-34c6bce925de",
   "metadata": {},
   "outputs": [],
   "source": [
    "cross_tab = pd.crosstab(index=df['Increased_Work_Hours'], columns=df['Productivity_Change'])"
   ]
  },
  {
   "cell_type": "code",
   "execution_count": 107,
   "id": "5003d7bd-d489-4645-ac0e-9fae10411dd2",
   "metadata": {},
   "outputs": [],
   "source": [
    "chi2_stat, p_value, dof, expected = chi2_contingency(cross_tab)"
   ]
  },
  {
   "cell_type": "code",
   "execution_count": 109,
   "id": "219c4175-60aa-48a2-a9ea-1aa292cd0dce",
   "metadata": {},
   "outputs": [
    {
     "name": "stdout",
     "output_type": "stream",
     "text": [
      "Chi-square statistic: 0.4746115241145468\n",
      "p-value: 0.4908732666304465\n",
      "Degrees of Freedom: 1\n",
      "Expected Frequencies:\n",
      " [[169.66 170.34]\n",
      " [329.34 330.66]]\n"
     ]
    }
   ],
   "source": [
    "print(\"Chi-square statistic:\", chi2_stat)\n",
    "print(\"p-value:\", p_value)\n",
    "print(\"Degrees of Freedom:\", dof)\n",
    "print(\"Expected Frequencies:\\n\", expected)"
   ]
  },
  {
   "cell_type": "code",
   "execution_count": 131,
   "id": "ed4e096c-c3a9-41cb-8e0a-4f7bdc0fd8ac",
   "metadata": {},
   "outputs": [
    {
     "name": "stdout",
     "output_type": "stream",
     "text": [
      "Fail to reject the null hypothesis. There is no statistically significant association between Increased_Work_Hours and Productivity_Change.\n"
     ]
    }
   ],
   "source": [
    "alpha = 0.05\n",
    "if p_value < alpha:\n",
    "    print(\"Reject the null hypothesis. There is a statistically significant association between Increased_Work_Hours and Productivity_Change.\")\n",
    "else:\n",
    "    print(\"Fail to reject the null hypothesis. There is no statistically significant association between Increased_Work_Hours and Productivity_Change.\")"
   ]
  },
  {
   "cell_type": "code",
   "execution_count": 137,
   "id": "666b6e24-9af5-4168-b5c0-aaf6a950dada",
   "metadata": {},
   "outputs": [],
   "source": [
    "cross_tab = pd.crosstab(index=df['Salary_Changes'], columns=df['Sector'])"
   ]
  },
  {
   "cell_type": "code",
   "execution_count": 139,
   "id": "321163d3-2a4a-46b4-ad8d-6d91a39b0ab5",
   "metadata": {},
   "outputs": [],
   "source": [
    "chi2_stat, p_value, dof, expected = chi2_contingency(cross_tab)"
   ]
  },
  {
   "cell_type": "code",
   "execution_count": 141,
   "id": "28465701-ab6a-44e5-b704-31e7da7af106",
   "metadata": {},
   "outputs": [
    {
     "name": "stdout",
     "output_type": "stream",
     "text": [
      "Chi-square statistic: 6.57004488006167\n",
      "p-value: 0.08694066272421012\n",
      "Degrees of Freedom: 3\n",
      "Expected Frequencies:\n",
      " [[ 53.505  50.84   53.505  47.15 ]\n",
      " [207.495 197.16  207.495 182.85 ]]\n"
     ]
    }
   ],
   "source": [
    "print(\"Chi-square statistic:\", chi2_stat)\n",
    "print(\"p-value:\", p_value)\n",
    "print(\"Degrees of Freedom:\", dof)\n",
    "print(\"Expected Frequencies:\\n\", expected)"
   ]
  },
  {
   "cell_type": "code",
   "execution_count": 147,
   "id": "8c1469e5-7a5f-4db0-80ef-b77e7bb89f71",
   "metadata": {},
   "outputs": [
    {
     "name": "stdout",
     "output_type": "stream",
     "text": [
      "Reject the null hypothesis. There is a statistically significant association between Salary_Changes and Sector.\n"
     ]
    }
   ],
   "source": [
    "alpha = 0.10\n",
    "if p_value < alpha:\n",
    "    print(\"Reject the null hypothesis. There is a statistically significant association between Salary_Changes and Sector.\")\n",
    "else:\n",
    "    print(\"Fail to reject the null hypothesis. There is no statistically significant association between Salary_Changes and Sector.\")"
   ]
  },
  {
   "cell_type": "code",
   "execution_count": 149,
   "id": "c586df86-3a9c-48e6-aaf3-dcd62ca4f986",
   "metadata": {},
   "outputs": [],
   "source": [
    "cross_tab = pd.crosstab(index=df['Salary_Changes'], columns=df['Work_From_Home'])"
   ]
  },
  {
   "cell_type": "code",
   "execution_count": 151,
   "id": "00438466-cbd1-4fca-ad3f-25a07ff02eab",
   "metadata": {},
   "outputs": [],
   "source": [
    "chi2_stat, p_value, dof, expected = chi2_contingency(cross_tab)"
   ]
  },
  {
   "cell_type": "code",
   "execution_count": 153,
   "id": "4d92c6b2-f048-4dc0-973a-dfcc274d5d7e",
   "metadata": {},
   "outputs": [
    {
     "name": "stdout",
     "output_type": "stream",
     "text": [
      "Chi-square statistic: 0.700127069881332\n",
      "p-value: 0.402741000221729\n",
      "Degrees of Freedom: 1\n",
      "Expected Frequencies:\n",
      " [[ 38.335 166.665]\n",
      " [148.665 646.335]]\n"
     ]
    }
   ],
   "source": [
    "print(\"Chi-square statistic:\", chi2_stat)\n",
    "print(\"p-value:\", p_value)\n",
    "print(\"Degrees of Freedom:\", dof)\n",
    "print(\"Expected Frequencies:\\n\", expected)"
   ]
  },
  {
   "cell_type": "code",
   "execution_count": 175,
   "id": "09a7c6fe-474e-4b87-bad5-d1dbf3e20c8f",
   "metadata": {},
   "outputs": [
    {
     "name": "stdout",
     "output_type": "stream",
     "text": [
      "Fail to reject the null hypothesis. There is no statistically significant association between Salary_Changes and Work_From_Home.\n"
     ]
    }
   ],
   "source": [
    "alpha = 0.10\n",
    "if p_value < alpha:\n",
    "    print(\"Reject the null hypothesis. There is a statistically significant association between Salary_Changes and Work_From_Home.\")\n",
    "else:\n",
    "    print(\"Fail to reject the null hypothesis. There is no statistically significant association between Salary_Changes and Work_From_Home.\")"
   ]
  },
  {
   "cell_type": "code",
   "execution_count": 163,
   "id": "a37b4406-cfa5-419d-86d5-4efa4d657578",
   "metadata": {},
   "outputs": [],
   "source": [
    "cross_tab = pd.crosstab(index=df['Salary_Changes'], columns=df['Stress_Level'])"
   ]
  },
  {
   "cell_type": "code",
   "execution_count": 165,
   "id": "502f1a76-2479-4715-8062-5ac67d90d228",
   "metadata": {},
   "outputs": [],
   "source": [
    "chi2_stat, p_value, dof, expected = chi2_contingency(cross_tab)"
   ]
  },
  {
   "cell_type": "code",
   "execution_count": 167,
   "id": "b10366ba-3fb6-4783-9775-bb44a5b44dfe",
   "metadata": {},
   "outputs": [
    {
     "name": "stdout",
     "output_type": "stream",
     "text": [
      "Chi-square statistic: 0.8040985050428592\n",
      "p-value: 0.6689477975132307\n",
      "Degrees of Freedom: 2\n",
      "Expected Frequencies:\n",
      " [[ 65.805  41.82   97.375]\n",
      " [255.195 162.18  377.625]]\n"
     ]
    }
   ],
   "source": [
    "print(\"Chi-square statistic:\", chi2_stat)\n",
    "print(\"p-value:\", p_value)\n",
    "print(\"Degrees of Freedom:\", dof)\n",
    "print(\"Expected Frequencies:\\n\", expected)"
   ]
  },
  {
   "cell_type": "code",
   "execution_count": 181,
   "id": "06ffcb58-aff9-4dca-8d26-f331eb3dcb3f",
   "metadata": {},
   "outputs": [
    {
     "name": "stdout",
     "output_type": "stream",
     "text": [
      "Fail to reject the null hypothesis. There is no statistically significant association between Salary_Changes and Stress_Level.\n"
     ]
    }
   ],
   "source": [
    "alpha = 0.10\n",
    "if p_value < alpha:\n",
    "    print(\"Reject the null hypothesis. There is a statistically significant association between Salary_Changes and Stress_Level.\")\n",
    "else:\n",
    "    print(\"Fail to reject the null hypothesis. There is no statistically significant association between Salary_Changes and Stress_Level.\")"
   ]
  },
  {
   "cell_type": "code",
   "execution_count": 183,
   "id": "37be93d0-ad91-4bf8-b6bd-fc92686391c5",
   "metadata": {},
   "outputs": [],
   "source": [
    "cross_tab = pd.crosstab(index=df['Affected_by_Covid'], columns=df['Stress_Level'])"
   ]
  },
  {
   "cell_type": "code",
   "execution_count": 185,
   "id": "4ebd810a-dc4f-4bdb-948a-802886d6bbb4",
   "metadata": {},
   "outputs": [],
   "source": [
    "chi2_stat, p_value, dof, expected = chi2_contingency(cross_tab)"
   ]
  },
  {
   "cell_type": "code",
   "execution_count": 187,
   "id": "6cb36479-d966-4769-8c44-a810f4109ee9",
   "metadata": {},
   "outputs": [
    {
     "name": "stdout",
     "output_type": "stream",
     "text": [
      "Chi-square statistic: 0.0\n",
      "p-value: 1.0\n",
      "Degrees of Freedom: 0\n",
      "Expected Frequencies:\n",
      " [[321. 204. 475.]]\n"
     ]
    }
   ],
   "source": [
    "print(\"Chi-square statistic:\", chi2_stat)\n",
    "print(\"p-value:\", p_value)\n",
    "print(\"Degrees of Freedom:\", dof)\n",
    "print(\"Expected Frequencies:\\n\", expected)"
   ]
  },
  {
   "cell_type": "code",
   "execution_count": 195,
   "id": "1fb8c08d-b966-4712-a00a-00b370890b8e",
   "metadata": {},
   "outputs": [
    {
     "name": "stdout",
     "output_type": "stream",
     "text": [
      "Fail to reject the null hypothesis. There is no statistically significant association between Affected_by_Covid and Stress_Level.\n"
     ]
    }
   ],
   "source": [
    "alpha = 0.10\n",
    "if p_value < alpha:\n",
    "    print(\"Reject the null hypothesis. There is a statistically significant association between Affected_by_Covid and Stress_Level.\")\n",
    "else:\n",
    "    print(\"Fail to reject the null hypothesis. There is no statistically significant association between Affected_by_Covid and Stress_Level.\")"
   ]
  },
  {
   "cell_type": "code",
   "execution_count": 197,
   "id": "540525ee-8eee-4aef-8cc1-5d2a3d88ca20",
   "metadata": {},
   "outputs": [],
   "source": [
    "cross_tab = pd.crosstab(index=df['Affected_by_Covid'], columns=df['Work_From_Home'])"
   ]
  },
  {
   "cell_type": "code",
   "execution_count": 199,
   "id": "43e0a734-e884-4ed7-aa86-172686d59d8f",
   "metadata": {},
   "outputs": [],
   "source": [
    "chi2_stat, p_value, dof, expected = chi2_contingency(cross_tab)"
   ]
  },
  {
   "cell_type": "code",
   "execution_count": 201,
   "id": "9909e6b9-c8a4-416a-851a-f0839fdee20d",
   "metadata": {},
   "outputs": [
    {
     "name": "stdout",
     "output_type": "stream",
     "text": [
      "Chi-square statistic: 0.0\n",
      "p-value: 1.0\n",
      "Degrees of Freedom: 0\n",
      "Expected Frequencies:\n",
      " [[187. 813.]]\n"
     ]
    }
   ],
   "source": [
    "print(\"Chi-square statistic:\", chi2_stat)\n",
    "print(\"p-value:\", p_value)\n",
    "print(\"Degrees of Freedom:\", dof)\n",
    "print(\"Expected Frequencies:\\n\", expected)"
   ]
  },
  {
   "cell_type": "code",
   "execution_count": 209,
   "id": "299dc750-3e56-4743-9235-e18eacc346f2",
   "metadata": {},
   "outputs": [
    {
     "name": "stdout",
     "output_type": "stream",
     "text": [
      "Fail to reject the null hypothesis. There is no statistically significant association between Affected_by_Covid and Work_From_Home.\n"
     ]
    }
   ],
   "source": [
    "alpha = 0.10\n",
    "if p_value < alpha:\n",
    "    print(\"Reject the null hypothesis. There is a statistically significant association between Affected_by_Covid and Work_From_Home.\")\n",
    "else:\n",
    "    print(\"Fail to reject the null hypothesis. There is no statistically significant association between Affected_by_Covid and Work_From_Home.\")"
   ]
  },
  {
   "cell_type": "code",
   "execution_count": 211,
   "id": "27b84bc2-3a65-4064-9214-67b989410db1",
   "metadata": {},
   "outputs": [],
   "source": [
    "cross_tab = pd.crosstab(index=df['Affected_by_Covid'], columns=df['Team_Collaboration_Challenges'])"
   ]
  },
  {
   "cell_type": "code",
   "execution_count": 213,
   "id": "92a5161d-7157-4447-b1bb-53c64f086c9c",
   "metadata": {},
   "outputs": [],
   "source": [
    "chi2_stat, p_value, dof, expected = chi2_contingency(cross_tab)"
   ]
  },
  {
   "cell_type": "code",
   "execution_count": 215,
   "id": "6b895d07-5f85-479f-b636-3304065b4ec7",
   "metadata": {},
   "outputs": [
    {
     "name": "stdout",
     "output_type": "stream",
     "text": [
      "Chi-square statistic: 0.0\n",
      "p-value: 1.0\n",
      "Degrees of Freedom: 0\n",
      "Expected Frequencies:\n",
      " [[297. 703.]]\n"
     ]
    }
   ],
   "source": [
    "print(\"Chi-square statistic:\", chi2_stat)\n",
    "print(\"p-value:\", p_value)\n",
    "print(\"Degrees of Freedom:\", dof)\n",
    "print(\"Expected Frequencies:\\n\", expected)"
   ]
  },
  {
   "cell_type": "code",
   "execution_count": 223,
   "id": "7817b077-d106-4b3b-8769-d9751521bc8e",
   "metadata": {},
   "outputs": [
    {
     "name": "stdout",
     "output_type": "stream",
     "text": [
      "Fail to reject the null hypothesis. There is no statistically significant association between Affected_by_Covid and Team_Collaboration_Challenges.\n"
     ]
    }
   ],
   "source": [
    "alpha = 0.10\n",
    "if p_value < alpha:\n",
    "    print(\"Reject the null hypothesis. There is a statistically significant association between Affected_by_Covid and Team_Collaboration_Challenges.\")\n",
    "else:\n",
    "    print(\"Fail to reject the null hypothesis. There is no statistically significant association between Affected_by_Covid and Team_Collaboration_Challenges.\")"
   ]
  },
  {
   "cell_type": "code",
   "execution_count": 225,
   "id": "d592e387-f493-4114-a630-d4bae2820d19",
   "metadata": {},
   "outputs": [],
   "source": [
    "cross_tab = pd.crosstab(index=df['Childcare_Responsibilities'], columns=df['Stress_Level'])"
   ]
  },
  {
   "cell_type": "code",
   "execution_count": 227,
   "id": "0e3961e4-07fa-4cf3-8113-11fbafa9beee",
   "metadata": {},
   "outputs": [],
   "source": [
    "chi2_stat, p_value, dof, expected = chi2_contingency(cross_tab)"
   ]
  },
  {
   "cell_type": "code",
   "execution_count": 229,
   "id": "2cf2033a-a433-4799-b7a0-2c9ba87d9d05",
   "metadata": {},
   "outputs": [
    {
     "name": "stdout",
     "output_type": "stream",
     "text": [
      "Chi-square statistic: 3.321494756444695\n",
      "p-value: 0.18999692745871138\n",
      "Degrees of Freedom: 2\n",
      "Expected Frequencies:\n",
      " [[187.464 119.136 277.4  ]\n",
      " [133.536  84.864 197.6  ]]\n"
     ]
    }
   ],
   "source": [
    "print(\"Chi-square statistic:\", chi2_stat)\n",
    "print(\"p-value:\", p_value)\n",
    "print(\"Degrees of Freedom:\", dof)\n",
    "print(\"Expected Frequencies:\\n\", expected)"
   ]
  },
  {
   "cell_type": "code",
   "execution_count": 245,
   "id": "577b9690-9d07-451e-836b-0300096dc734",
   "metadata": {},
   "outputs": [
    {
     "name": "stdout",
     "output_type": "stream",
     "text": [
      "Fail to reject the null hypothesis. There is no statistically significant association between Childcare_Responsibilities and Stress_Level.\n"
     ]
    }
   ],
   "source": [
    "alpha = 0.10\n",
    "if p_value < alpha:\n",
    "    print(\"Reject the null hypothesis. There is a statistically significant association between Childcare_Responsibilities and Stress_Level.\")\n",
    "else:\n",
    "    print(\"Fail to reject the null hypothesis. There is no statistically significant association between Childcare_Responsibilities and Stress_Level.\")"
   ]
  },
  {
   "cell_type": "code",
   "execution_count": 247,
   "id": "d505b49c-aa4d-4e1b-8a8d-af59630f391d",
   "metadata": {},
   "outputs": [],
   "source": [
    "cross_tab = pd.crosstab(index=df['Childcare_Responsibilities'], columns=df['Work_From_Home'])"
   ]
  },
  {
   "cell_type": "code",
   "execution_count": 249,
   "id": "3644df3a-e151-4d61-8506-2241028bc6e3",
   "metadata": {},
   "outputs": [],
   "source": [
    "chi2_stat, p_value, dof, expected = chi2_contingency(cross_tab)"
   ]
  },
  {
   "cell_type": "code",
   "execution_count": 251,
   "id": "d357c3f0-6c25-47fd-b932-c56699ae740c",
   "metadata": {},
   "outputs": [
    {
     "name": "stdout",
     "output_type": "stream",
     "text": [
      "Chi-square statistic: 0.07898368697599206\n",
      "p-value: 0.7786794398611161\n",
      "Degrees of Freedom: 1\n",
      "Expected Frequencies:\n",
      " [[109.208 474.792]\n",
      " [ 77.792 338.208]]\n"
     ]
    }
   ],
   "source": [
    "print(\"Chi-square statistic:\", chi2_stat)\n",
    "print(\"p-value:\", p_value)\n",
    "print(\"Degrees of Freedom:\", dof)\n",
    "print(\"Expected Frequencies:\\n\", expected)"
   ]
  },
  {
   "cell_type": "code",
   "execution_count": 257,
   "id": "be0df4f9-280a-47fa-aeb5-cea67152f489",
   "metadata": {},
   "outputs": [
    {
     "name": "stdout",
     "output_type": "stream",
     "text": [
      "Fail to reject the null hypothesis. There is no statistically significant association between Childcare_Responsibilities and Work_From_Home.\n"
     ]
    }
   ],
   "source": [
    "alpha = 0.10\n",
    "if p_value < alpha:\n",
    "    print(\"Reject the null hypothesis. There is a statistically significant association between Childcare_Responsibilities and Work_From_Home.\")\n",
    "else:\n",
    "    print(\"Fail to reject the null hypothesis. There is no statistically significant association between Childcare_Responsibilities and Work_From_Home.\")"
   ]
  },
  {
   "cell_type": "code",
   "execution_count": 261,
   "id": "c6271af1-5290-49d7-8bb6-b11d6d00d505",
   "metadata": {},
   "outputs": [],
   "source": [
    "cross_tab = pd.crosstab(index=df['Commuting_Changes'], columns=df['Stress_Level'])"
   ]
  },
  {
   "cell_type": "code",
   "execution_count": 263,
   "id": "61f14af8-a95f-456e-be9b-41de7421f408",
   "metadata": {},
   "outputs": [],
   "source": [
    "chi2_stat, p_value, dof, expected = chi2_contingency(cross_tab)"
   ]
  },
  {
   "cell_type": "code",
   "execution_count": 265,
   "id": "eff9c2f5-f811-4e66-81b4-ac69a3651ccc",
   "metadata": {},
   "outputs": [
    {
     "name": "stdout",
     "output_type": "stream",
     "text": [
      "Chi-square statistic: 1.332669950210456\n",
      "p-value: 0.5135874434044903\n",
      "Degrees of Freedom: 2\n",
      "Expected Frequencies:\n",
      " [[164.673 104.652 243.675]\n",
      " [156.327  99.348 231.325]]\n"
     ]
    }
   ],
   "source": [
    "print(\"Chi-square statistic:\", chi2_stat)\n",
    "print(\"p-value:\", p_value)\n",
    "print(\"Degrees of Freedom:\", dof)\n",
    "print(\"Expected Frequencies:\\n\", expected)"
   ]
  },
  {
   "cell_type": "code",
   "execution_count": 281,
   "id": "12f30aea-9689-496b-9162-333e532b5232",
   "metadata": {},
   "outputs": [
    {
     "name": "stdout",
     "output_type": "stream",
     "text": [
      "Fail to reject the null hypothesis. There is no statistically significant association between Commuting_Changes and Stress_Level.\n"
     ]
    }
   ],
   "source": [
    "alpha = 0.10\n",
    "if p_value < alpha:\n",
    "    print(\"Reject the null hypothesis. There is a statistically significant association between Commuting_Changes and Stress_Level.\")\n",
    "else:\n",
    "    print(\"Fail to reject the null hypothesis. There is no statistically significant association between Commuting_Changes and Stress_Level.\")"
   ]
  },
  {
   "cell_type": "code",
   "execution_count": 285,
   "id": "120ca21c-8bcb-48a5-9ceb-a93543426235",
   "metadata": {},
   "outputs": [],
   "source": [
    "cross_tab = pd.crosstab(index=df['Technology_Adaptation'], columns=df['Stress_Level'])"
   ]
  },
  {
   "cell_type": "code",
   "execution_count": 287,
   "id": "0adfc81f-8d08-4077-8d40-3e558ec464fe",
   "metadata": {},
   "outputs": [],
   "source": [
    "chi2_stat, p_value, dof, expected = chi2_contingency(cross_tab)"
   ]
  },
  {
   "cell_type": "code",
   "execution_count": 289,
   "id": "876db625-f3ac-42d5-8e79-cbd4efde3162",
   "metadata": {},
   "outputs": [
    {
     "name": "stdout",
     "output_type": "stream",
     "text": [
      "Chi-square statistic: 1.3295465360844574\n",
      "p-value: 0.5143901431701257\n",
      "Degrees of Freedom: 2\n",
      "Expected Frequencies:\n",
      " [[126.153  80.172 186.675]\n",
      " [194.847 123.828 288.325]]\n"
     ]
    }
   ],
   "source": [
    "print(\"Chi-square statistic:\", chi2_stat)\n",
    "print(\"p-value:\", p_value)\n",
    "print(\"Degrees of Freedom:\", dof)\n",
    "print(\"Expected Frequencies:\\n\", expected)"
   ]
  },
  {
   "cell_type": "code",
   "execution_count": 297,
   "id": "f0904ed8-4d3e-48ae-9dff-4ada7d02b160",
   "metadata": {},
   "outputs": [
    {
     "name": "stdout",
     "output_type": "stream",
     "text": [
      "Fail to reject the null hypothesis. There is no statistically significant association between Technology_Adaptation and Stress_Level.\n"
     ]
    }
   ],
   "source": [
    "alpha = 0.10\n",
    "if p_value < alpha:\n",
    "    print(\"Reject the null hypothesis. There is a statistically significant association between Technology_Adaptation and Stress_Level.\")\n",
    "else:\n",
    "    print(\"Fail to reject the null hypothesis. There is no statistically significant association between Technology_Adaptation and Stress_Level.\")"
   ]
  },
  {
   "cell_type": "code",
   "execution_count": 299,
   "id": "ff654e7b-8b02-4aec-877b-4f6289ed2024",
   "metadata": {},
   "outputs": [],
   "source": [
    "cross_tab = pd.crosstab(index=df['Technology_Adaptation'], columns=df['Work_From_Home'])"
   ]
  },
  {
   "cell_type": "code",
   "execution_count": 301,
   "id": "19c6bb44-4620-4c6e-8747-36c8b7da4b03",
   "metadata": {},
   "outputs": [],
   "source": [
    "chi2_stat, p_value, dof, expected = chi2_contingency(cross_tab)"
   ]
  },
  {
   "cell_type": "code",
   "execution_count": 303,
   "id": "c54ba023-4e54-4403-9fca-2055e6335b50",
   "metadata": {},
   "outputs": [
    {
     "name": "stdout",
     "output_type": "stream",
     "text": [
      "Chi-square statistic: 0.028071714538951662\n",
      "p-value: 0.8669403331698733\n",
      "Degrees of Freedom: 1\n",
      "Expected Frequencies:\n",
      " [[ 73.491 319.509]\n",
      " [113.509 493.491]]\n"
     ]
    }
   ],
   "source": [
    "print(\"Chi-square statistic:\", chi2_stat)\n",
    "print(\"p-value:\", p_value)\n",
    "print(\"Degrees of Freedom:\", dof)\n",
    "print(\"Expected Frequencies:\\n\", expected)"
   ]
  },
  {
   "cell_type": "code",
   "execution_count": 311,
   "id": "39488580-6314-4ea5-9fff-98cdc58b6f40",
   "metadata": {},
   "outputs": [
    {
     "name": "stdout",
     "output_type": "stream",
     "text": [
      "Fail to reject the null hypothesis. There is no statistically significant association between Technology_Adaptation and Work_From_Home.\n"
     ]
    }
   ],
   "source": [
    "alpha = 0.10\n",
    "if p_value < alpha:\n",
    "    print(\"Reject the null hypothesis. There is a statistically significant association between Technology_Adaptation and Work_From_Home.\")\n",
    "else:\n",
    "    print(\"Fail to reject the null hypothesis. There is no statistically significant association between Technology_Adaptation and Work_From_Home.\")"
   ]
  },
  {
   "cell_type": "code",
   "execution_count": null,
   "id": "01ff9faf-50eb-469c-bb66-a486c0a4357b",
   "metadata": {},
   "outputs": [],
   "source": []
  }
 ],
 "metadata": {
  "kernelspec": {
   "display_name": "Python 3 (ipykernel)",
   "language": "python",
   "name": "python3"
  },
  "language_info": {
   "codemirror_mode": {
    "name": "ipython",
    "version": 3
   },
   "file_extension": ".py",
   "mimetype": "text/x-python",
   "name": "python",
   "nbconvert_exporter": "python",
   "pygments_lexer": "ipython3",
   "version": "3.12.7"
  }
 },
 "nbformat": 4,
 "nbformat_minor": 5
}
